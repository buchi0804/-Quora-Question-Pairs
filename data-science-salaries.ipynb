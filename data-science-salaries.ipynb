{
 "cells": [
  {
   "cell_type": "code",
   "execution_count": 1,
   "id": "7d4e857f",
   "metadata": {
    "_cell_guid": "b1076dfc-b9ad-4769-8c92-a6c4dae69d19",
    "_uuid": "8f2839f25d086af736a60e9eeb907d3b93b6e0e5",
    "execution": {
     "iopub.execute_input": "2022-07-14T06:33:41.968016Z",
     "iopub.status.busy": "2022-07-14T06:33:41.967560Z",
     "iopub.status.idle": "2022-07-14T06:33:41.988712Z",
     "shell.execute_reply": "2022-07-14T06:33:41.987788Z"
    },
    "papermill": {
     "duration": 0.031125,
     "end_time": "2022-07-14T06:33:41.991460",
     "exception": false,
     "start_time": "2022-07-14T06:33:41.960335",
     "status": "completed"
    },
    "tags": []
   },
   "outputs": [
    {
     "name": "stdout",
     "output_type": "stream",
     "text": [
      "/kaggle/input/data-science-job-salaries/ds_salaries.csv\n"
     ]
    }
   ],
   "source": [
    "# This Python 3 environment comes with many helpful analytics libraries installed\n",
    "# It is defined by the kaggle/python Docker image: https://github.com/kaggle/docker-python\n",
    "# For example, here's several helpful packages to load\n",
    "\n",
    "import numpy as np # linear algebra\n",
    "import pandas as pd # data processing, CSV file I/O (e.g. pd.read_csv)\n",
    "\n",
    "# Input data files are available in the read-only \"../input/\" directory\n",
    "# For example, running this (by clicking run or pressing Shift+Enter) will list all files under the input directory\n",
    "\n",
    "import os\n",
    "for dirname, _, filenames in os.walk('/kaggle/input'):\n",
    "    for filename in filenames:\n",
    "        print(os.path.join(dirname, filename))\n",
    "\n",
    "# You can write up to 20GB to the current directory (/kaggle/working/) that gets preserved as output when you create a version using \"Save & Run All\" \n",
    "# You can also write temporary files to /kaggle/temp/, but they won't be saved outside of the current session"
   ]
  },
  {
   "cell_type": "code",
   "execution_count": 2,
   "id": "d4720d88",
   "metadata": {
    "execution": {
     "iopub.execute_input": "2022-07-14T06:33:42.004068Z",
     "iopub.status.busy": "2022-07-14T06:33:42.002925Z",
     "iopub.status.idle": "2022-07-14T06:33:42.021081Z",
     "shell.execute_reply": "2022-07-14T06:33:42.019898Z"
    },
    "papermill": {
     "duration": 0.027515,
     "end_time": "2022-07-14T06:33:42.024174",
     "exception": false,
     "start_time": "2022-07-14T06:33:41.996659",
     "status": "completed"
    },
    "tags": []
   },
   "outputs": [],
   "source": [
    "data=pd.read_csv('/kaggle/input/data-science-job-salaries/ds_salaries.csv')"
   ]
  },
  {
   "cell_type": "code",
   "execution_count": 3,
   "id": "f2dabd16",
   "metadata": {
    "execution": {
     "iopub.execute_input": "2022-07-14T06:33:42.036284Z",
     "iopub.status.busy": "2022-07-14T06:33:42.035849Z",
     "iopub.status.idle": "2022-07-14T06:33:42.061069Z",
     "shell.execute_reply": "2022-07-14T06:33:42.059824Z"
    },
    "papermill": {
     "duration": 0.034668,
     "end_time": "2022-07-14T06:33:42.063892",
     "exception": false,
     "start_time": "2022-07-14T06:33:42.029224",
     "status": "completed"
    },
    "tags": []
   },
   "outputs": [
    {
     "data": {
      "text/html": [
       "<div>\n",
       "<style scoped>\n",
       "    .dataframe tbody tr th:only-of-type {\n",
       "        vertical-align: middle;\n",
       "    }\n",
       "\n",
       "    .dataframe tbody tr th {\n",
       "        vertical-align: top;\n",
       "    }\n",
       "\n",
       "    .dataframe thead th {\n",
       "        text-align: right;\n",
       "    }\n",
       "</style>\n",
       "<table border=\"1\" class=\"dataframe\">\n",
       "  <thead>\n",
       "    <tr style=\"text-align: right;\">\n",
       "      <th></th>\n",
       "      <th>Unnamed: 0</th>\n",
       "      <th>work_year</th>\n",
       "      <th>experience_level</th>\n",
       "      <th>employment_type</th>\n",
       "      <th>job_title</th>\n",
       "      <th>salary</th>\n",
       "      <th>salary_currency</th>\n",
       "      <th>salary_in_usd</th>\n",
       "      <th>employee_residence</th>\n",
       "      <th>remote_ratio</th>\n",
       "      <th>company_location</th>\n",
       "      <th>company_size</th>\n",
       "    </tr>\n",
       "  </thead>\n",
       "  <tbody>\n",
       "    <tr>\n",
       "      <th>0</th>\n",
       "      <td>0</td>\n",
       "      <td>2020</td>\n",
       "      <td>MI</td>\n",
       "      <td>FT</td>\n",
       "      <td>Data Scientist</td>\n",
       "      <td>70000</td>\n",
       "      <td>EUR</td>\n",
       "      <td>79833</td>\n",
       "      <td>DE</td>\n",
       "      <td>0</td>\n",
       "      <td>DE</td>\n",
       "      <td>L</td>\n",
       "    </tr>\n",
       "    <tr>\n",
       "      <th>1</th>\n",
       "      <td>1</td>\n",
       "      <td>2020</td>\n",
       "      <td>SE</td>\n",
       "      <td>FT</td>\n",
       "      <td>Machine Learning Scientist</td>\n",
       "      <td>260000</td>\n",
       "      <td>USD</td>\n",
       "      <td>260000</td>\n",
       "      <td>JP</td>\n",
       "      <td>0</td>\n",
       "      <td>JP</td>\n",
       "      <td>S</td>\n",
       "    </tr>\n",
       "  </tbody>\n",
       "</table>\n",
       "</div>"
      ],
      "text/plain": [
       "   Unnamed: 0  work_year experience_level employment_type  \\\n",
       "0           0       2020               MI              FT   \n",
       "1           1       2020               SE              FT   \n",
       "\n",
       "                    job_title  salary salary_currency  salary_in_usd  \\\n",
       "0              Data Scientist   70000             EUR          79833   \n",
       "1  Machine Learning Scientist  260000             USD         260000   \n",
       "\n",
       "  employee_residence  remote_ratio company_location company_size  \n",
       "0                 DE             0               DE            L  \n",
       "1                 JP             0               JP            S  "
      ]
     },
     "execution_count": 3,
     "metadata": {},
     "output_type": "execute_result"
    }
   ],
   "source": [
    "data.head(2)"
   ]
  },
  {
   "cell_type": "code",
   "execution_count": 4,
   "id": "950999e7",
   "metadata": {
    "execution": {
     "iopub.execute_input": "2022-07-14T06:33:42.076742Z",
     "iopub.status.busy": "2022-07-14T06:33:42.076330Z",
     "iopub.status.idle": "2022-07-14T06:33:42.086704Z",
     "shell.execute_reply": "2022-07-14T06:33:42.085484Z"
    },
    "papermill": {
     "duration": 0.020047,
     "end_time": "2022-07-14T06:33:42.089303",
     "exception": false,
     "start_time": "2022-07-14T06:33:42.069256",
     "status": "completed"
    },
    "tags": []
   },
   "outputs": [
    {
     "data": {
      "text/plain": [
       "Unnamed: 0            0\n",
       "work_year             0\n",
       "experience_level      0\n",
       "employment_type       0\n",
       "job_title             0\n",
       "salary                0\n",
       "salary_currency       0\n",
       "salary_in_usd         0\n",
       "employee_residence    0\n",
       "remote_ratio          0\n",
       "company_location      0\n",
       "company_size          0\n",
       "dtype: int64"
      ]
     },
     "execution_count": 4,
     "metadata": {},
     "output_type": "execute_result"
    }
   ],
   "source": [
    "data.isnull().sum()"
   ]
  },
  {
   "cell_type": "code",
   "execution_count": 5,
   "id": "ca52e272",
   "metadata": {
    "execution": {
     "iopub.execute_input": "2022-07-14T06:33:42.102485Z",
     "iopub.status.busy": "2022-07-14T06:33:42.101772Z",
     "iopub.status.idle": "2022-07-14T06:33:42.113673Z",
     "shell.execute_reply": "2022-07-14T06:33:42.112652Z"
    },
    "papermill": {
     "duration": 0.021569,
     "end_time": "2022-07-14T06:33:42.116422",
     "exception": false,
     "start_time": "2022-07-14T06:33:42.094853",
     "status": "completed"
    },
    "tags": []
   },
   "outputs": [],
   "source": [
    "data.drop(['Unnamed: 0'],axis=1,inplace=True)"
   ]
  },
  {
   "cell_type": "code",
   "execution_count": 6,
   "id": "05cdd06e",
   "metadata": {
    "execution": {
     "iopub.execute_input": "2022-07-14T06:33:42.129185Z",
     "iopub.status.busy": "2022-07-14T06:33:42.128476Z",
     "iopub.status.idle": "2022-07-14T06:33:43.422527Z",
     "shell.execute_reply": "2022-07-14T06:33:43.421065Z"
    },
    "papermill": {
     "duration": 1.304006,
     "end_time": "2022-07-14T06:33:43.425799",
     "exception": false,
     "start_time": "2022-07-14T06:33:42.121793",
     "status": "completed"
    },
    "tags": []
   },
   "outputs": [],
   "source": [
    "\n",
    "import matplotlib.pyplot as plt\n",
    "import seaborn as sns\n",
    "sns.set_style('darkgrid')"
   ]
  },
  {
   "cell_type": "code",
   "execution_count": 7,
   "id": "12535f47",
   "metadata": {
    "execution": {
     "iopub.execute_input": "2022-07-14T06:33:43.439020Z",
     "iopub.status.busy": "2022-07-14T06:33:43.438516Z",
     "iopub.status.idle": "2022-07-14T06:33:43.658188Z",
     "shell.execute_reply": "2022-07-14T06:33:43.656493Z"
    },
    "papermill": {
     "duration": 0.229771,
     "end_time": "2022-07-14T06:33:43.660970",
     "exception": false,
     "start_time": "2022-07-14T06:33:43.431199",
     "status": "completed"
    },
    "tags": []
   },
   "outputs": [
    {
     "data": {
      "text/plain": [
       "[Text(0, 0, '318'), Text(0, 0, '217'), Text(0, 0, '72')]"
      ]
     },
     "execution_count": 7,
     "metadata": {},
     "output_type": "execute_result"
    },
    {
     "data": {
      "image/png": "[encoded data removed]",
      "text/plain": [
       "<Figure size 432x288 with 1 Axes>"
      ]
     },
     "metadata": {},
     "output_type": "display_data"
    }
   ],
   "source": [
    "ax=sns.barplot(x=data['work_year'].unique(),y=data['work_year'].value_counts())\n",
    "ax.bar_label(ax.containers[0])"
   ]
  },
  {
   "cell_type": "code",
   "execution_count": 8,
   "id": "a94d2c59",
   "metadata": {
    "execution": {
     "iopub.execute_input": "2022-07-14T06:33:43.674196Z",
     "iopub.status.busy": "2022-07-14T06:33:43.673719Z",
     "iopub.status.idle": "2022-07-14T06:33:43.975263Z",
     "shell.execute_reply": "2022-07-14T06:33:43.974039Z"
    },
    "papermill": {
     "duration": 0.311666,
     "end_time": "2022-07-14T06:33:43.978389",
     "exception": false,
     "start_time": "2022-07-14T06:33:43.666723",
     "status": "completed"
    },
    "tags": []
   },
   "outputs": [
    {
     "data": {
      "text/plain": [
       "[Text(0, 0, '143'),\n",
       " Text(0, 0, '132'),\n",
       " Text(0, 0, '97'),\n",
       " Text(0, 0, '41'),\n",
       " Text(0, 0, '16'),\n",
       " Text(0, 0, '12')]"
      ]
     },
     "execution_count": 8,
     "metadata": {},
     "output_type": "execute_result"
    },
    {
     "data": {
      "image/png": "[encoded data removed]",
      "text/plain": [
       "<Figure size 1080x720 with 1 Axes>"
      ]
     },
     "metadata": {},
     "output_type": "display_data"
    }
   ],
   "source": [
    "plt.figure(figsize=(15,10))\n",
    "ax=sns.barplot(x=data['job_title'].unique()[0:6],y=data['job_title'].value_counts()[0:6])\n",
    "ax.bar_label(ax.containers[0])"
   ]
  },
  {
   "cell_type": "code",
   "execution_count": 9,
   "id": "35069bd6",
   "metadata": {
    "execution": {
     "iopub.execute_input": "2022-07-14T06:33:43.994248Z",
     "iopub.status.busy": "2022-07-14T06:33:43.992902Z",
     "iopub.status.idle": "2022-07-14T06:33:44.000280Z",
     "shell.execute_reply": "2022-07-14T06:33:43.999071Z"
    },
    "papermill": {
     "duration": 0.018307,
     "end_time": "2022-07-14T06:33:44.003230",
     "exception": false,
     "start_time": "2022-07-14T06:33:43.984923",
     "status": "completed"
    },
    "tags": []
   },
   "outputs": [],
   "source": [
    "def get_plot(item):\n",
    "    plt.figure(figsize=(15,10))\n",
    "    ax=sns.barplot(x=data[item].unique()[0:6],y=data[item].value_counts()[0:6])\n",
    "    ax.bar_label(ax.containers[0])\n",
    "    return plt.show()"
   ]
  },
  {
   "cell_type": "code",
   "execution_count": 10,
   "id": "d9ae0eee",
   "metadata": {
    "execution": {
     "iopub.execute_input": "2022-07-14T06:33:44.018581Z",
     "iopub.status.busy": "2022-07-14T06:33:44.017339Z",
     "iopub.status.idle": "2022-07-14T06:33:44.307034Z",
     "shell.execute_reply": "2022-07-14T06:33:44.306117Z"
    },
    "papermill": {
     "duration": 0.300195,
     "end_time": "2022-07-14T06:33:44.310014",
     "exception": false,
     "start_time": "2022-07-14T06:33:44.009819",
     "status": "completed"
    },
    "tags": []
   },
   "outputs": [
    {
     "data": {
      "image/png": "[encoded data removed]",
      "text/plain": [
       "<Figure size 1080x720 with 1 Axes>"
      ]
     },
     "metadata": {},
     "output_type": "display_data"
    }
   ],
   "source": [
    "get_plot('salary_currency')"
   ]
  },
  {
   "cell_type": "code",
   "execution_count": null,
   "id": "9df5e348",
   "metadata": {
    "papermill": {
     "duration": 0.007389,
     "end_time": "2022-07-14T06:33:44.324109",
     "exception": false,
     "start_time": "2022-07-14T06:33:44.316720",
     "status": "completed"
    },
    "tags": []
   },
   "outputs": [],
   "source": []
  },
  {
   "cell_type": "code",
   "execution_count": 11,
   "id": "22516993",
   "metadata": {
    "execution": {
     "iopub.execute_input": "2022-07-14T06:33:44.340484Z",
     "iopub.status.busy": "2022-07-14T06:33:44.339858Z",
     "iopub.status.idle": "2022-07-14T06:33:44.568463Z",
     "shell.execute_reply": "2022-07-14T06:33:44.567263Z"
    },
    "papermill": {
     "duration": 0.239987,
     "end_time": "2022-07-14T06:33:44.571352",
     "exception": false,
     "start_time": "2022-07-14T06:33:44.331365",
     "status": "completed"
    },
    "tags": []
   },
   "outputs": [
    {
     "data": {
      "image/png": "[encoded data removed]",
      "text/plain": [
       "<Figure size 1080x720 with 1 Axes>"
      ]
     },
     "metadata": {},
     "output_type": "display_data"
    }
   ],
   "source": [
    "get_plot('company_size')"
   ]
  },
  {
   "cell_type": "code",
   "execution_count": 12,
   "id": "5eaaeb60",
   "metadata": {
    "execution": {
     "iopub.execute_input": "2022-07-14T06:33:44.588487Z",
     "iopub.status.busy": "2022-07-14T06:33:44.588109Z",
     "iopub.status.idle": "2022-07-14T06:33:44.818598Z",
     "shell.execute_reply": "2022-07-14T06:33:44.817586Z"
    },
    "papermill": {
     "duration": 0.241655,
     "end_time": "2022-07-14T06:33:44.821006",
     "exception": false,
     "start_time": "2022-07-14T06:33:44.579351",
     "status": "completed"
    },
    "tags": []
   },
   "outputs": [
    {
     "data": {
      "image/png": "[encoded data removed]",
      "text/plain": [
       "<Figure size 1080x720 with 1 Axes>"
      ]
     },
     "metadata": {},
     "output_type": "display_data"
    }
   ],
   "source": [
    "get_plot('experience_level')"
   ]
  },
  {
   "cell_type": "code",
   "execution_count": 13,
   "id": "ae6b0893",
   "metadata": {
    "execution": {
     "iopub.execute_input": "2022-07-14T06:33:44.837580Z",
     "iopub.status.busy": "2022-07-14T06:33:44.836703Z",
     "iopub.status.idle": "2022-07-14T06:33:44.863361Z",
     "shell.execute_reply": "2022-07-14T06:33:44.861953Z"
    },
    "papermill": {
     "duration": 0.037558,
     "end_time": "2022-07-14T06:33:44.865838",
     "exception": false,
     "start_time": "2022-07-14T06:33:44.828280",
     "status": "completed"
    },
    "tags": []
   },
   "outputs": [
    {
     "data": {
      "text/html": [
       "<div>\n",
       "<style scoped>\n",
       "    .dataframe tbody tr th:only-of-type {\n",
       "        vertical-align: middle;\n",
       "    }\n",
       "\n",
       "    .dataframe tbody tr th {\n",
       "        vertical-align: top;\n",
       "    }\n",
       "\n",
       "    .dataframe thead th {\n",
       "        text-align: right;\n",
       "    }\n",
       "</style>\n",
       "<table border=\"1\" class=\"dataframe\">\n",
       "  <thead>\n",
       "    <tr style=\"text-align: right;\">\n",
       "      <th></th>\n",
       "      <th>work_year</th>\n",
       "      <th>experience_level</th>\n",
       "      <th>employment_type</th>\n",
       "      <th>job_title</th>\n",
       "      <th>salary</th>\n",
       "      <th>salary_currency</th>\n",
       "      <th>salary_in_usd</th>\n",
       "      <th>employee_residence</th>\n",
       "      <th>remote_ratio</th>\n",
       "      <th>company_location</th>\n",
       "      <th>company_size</th>\n",
       "    </tr>\n",
       "  </thead>\n",
       "  <tbody>\n",
       "    <tr>\n",
       "      <th>0</th>\n",
       "      <td>2020</td>\n",
       "      <td>MI</td>\n",
       "      <td>FT</td>\n",
       "      <td>Data Scientist</td>\n",
       "      <td>70000</td>\n",
       "      <td>EUR</td>\n",
       "      <td>79833</td>\n",
       "      <td>DE</td>\n",
       "      <td>0</td>\n",
       "      <td>DE</td>\n",
       "      <td>L</td>\n",
       "    </tr>\n",
       "    <tr>\n",
       "      <th>1</th>\n",
       "      <td>2020</td>\n",
       "      <td>SE</td>\n",
       "      <td>FT</td>\n",
       "      <td>Machine Learning Scientist</td>\n",
       "      <td>260000</td>\n",
       "      <td>USD</td>\n",
       "      <td>260000</td>\n",
       "      <td>JP</td>\n",
       "      <td>0</td>\n",
       "      <td>JP</td>\n",
       "      <td>S</td>\n",
       "    </tr>\n",
       "    <tr>\n",
       "      <th>2</th>\n",
       "      <td>2020</td>\n",
       "      <td>SE</td>\n",
       "      <td>FT</td>\n",
       "      <td>Big Data Engineer</td>\n",
       "      <td>85000</td>\n",
       "      <td>GBP</td>\n",
       "      <td>109024</td>\n",
       "      <td>GB</td>\n",
       "      <td>50</td>\n",
       "      <td>GB</td>\n",
       "      <td>M</td>\n",
       "    </tr>\n",
       "    <tr>\n",
       "      <th>3</th>\n",
       "      <td>2020</td>\n",
       "      <td>MI</td>\n",
       "      <td>FT</td>\n",
       "      <td>Product Data Analyst</td>\n",
       "      <td>20000</td>\n",
       "      <td>USD</td>\n",
       "      <td>20000</td>\n",
       "      <td>HN</td>\n",
       "      <td>0</td>\n",
       "      <td>HN</td>\n",
       "      <td>S</td>\n",
       "    </tr>\n",
       "    <tr>\n",
       "      <th>4</th>\n",
       "      <td>2020</td>\n",
       "      <td>SE</td>\n",
       "      <td>FT</td>\n",
       "      <td>Machine Learning Engineer</td>\n",
       "      <td>150000</td>\n",
       "      <td>USD</td>\n",
       "      <td>150000</td>\n",
       "      <td>US</td>\n",
       "      <td>50</td>\n",
       "      <td>US</td>\n",
       "      <td>L</td>\n",
       "    </tr>\n",
       "    <tr>\n",
       "      <th>...</th>\n",
       "      <td>...</td>\n",
       "      <td>...</td>\n",
       "      <td>...</td>\n",
       "      <td>...</td>\n",
       "      <td>...</td>\n",
       "      <td>...</td>\n",
       "      <td>...</td>\n",
       "      <td>...</td>\n",
       "      <td>...</td>\n",
       "      <td>...</td>\n",
       "      <td>...</td>\n",
       "    </tr>\n",
       "    <tr>\n",
       "      <th>602</th>\n",
       "      <td>2022</td>\n",
       "      <td>SE</td>\n",
       "      <td>FT</td>\n",
       "      <td>Data Engineer</td>\n",
       "      <td>154000</td>\n",
       "      <td>USD</td>\n",
       "      <td>154000</td>\n",
       "      <td>US</td>\n",
       "      <td>100</td>\n",
       "      <td>US</td>\n",
       "      <td>M</td>\n",
       "    </tr>\n",
       "    <tr>\n",
       "      <th>603</th>\n",
       "      <td>2022</td>\n",
       "      <td>SE</td>\n",
       "      <td>FT</td>\n",
       "      <td>Data Engineer</td>\n",
       "      <td>126000</td>\n",
       "      <td>USD</td>\n",
       "      <td>126000</td>\n",
       "      <td>US</td>\n",
       "      <td>100</td>\n",
       "      <td>US</td>\n",
       "      <td>M</td>\n",
       "    </tr>\n",
       "    <tr>\n",
       "      <th>604</th>\n",
       "      <td>2022</td>\n",
       "      <td>SE</td>\n",
       "      <td>FT</td>\n",
       "      <td>Data Analyst</td>\n",
       "      <td>129000</td>\n",
       "      <td>USD</td>\n",
       "      <td>129000</td>\n",
       "      <td>US</td>\n",
       "      <td>0</td>\n",
       "      <td>US</td>\n",
       "      <td>M</td>\n",
       "    </tr>\n",
       "    <tr>\n",
       "      <th>605</th>\n",
       "      <td>2022</td>\n",
       "      <td>SE</td>\n",
       "      <td>FT</td>\n",
       "      <td>Data Analyst</td>\n",
       "      <td>150000</td>\n",
       "      <td>USD</td>\n",
       "      <td>150000</td>\n",
       "      <td>US</td>\n",
       "      <td>100</td>\n",
       "      <td>US</td>\n",
       "      <td>M</td>\n",
       "    </tr>\n",
       "    <tr>\n",
       "      <th>606</th>\n",
       "      <td>2022</td>\n",
       "      <td>MI</td>\n",
       "      <td>FT</td>\n",
       "      <td>AI Scientist</td>\n",
       "      <td>200000</td>\n",
       "      <td>USD</td>\n",
       "      <td>200000</td>\n",
       "      <td>IN</td>\n",
       "      <td>100</td>\n",
       "      <td>US</td>\n",
       "      <td>L</td>\n",
       "    </tr>\n",
       "  </tbody>\n",
       "</table>\n",
       "<p>607 rows × 11 columns</p>\n",
       "</div>"
      ],
      "text/plain": [
       "     work_year experience_level employment_type                   job_title  \\\n",
       "0         2020               MI              FT              Data Scientist   \n",
       "1         2020               SE              FT  Machine Learning Scientist   \n",
       "2         2020               SE              FT           Big Data Engineer   \n",
       "3         2020               MI              FT        Product Data Analyst   \n",
       "4         2020               SE              FT   Machine Learning Engineer   \n",
       "..         ...              ...             ...                         ...   \n",
       "602       2022               SE              FT               Data Engineer   \n",
       "603       2022               SE              FT               Data Engineer   \n",
       "604       2022               SE              FT                Data Analyst   \n",
       "605       2022               SE              FT                Data Analyst   \n",
       "606       2022               MI              FT                AI Scientist   \n",
       "\n",
       "     salary salary_currency  salary_in_usd employee_residence  remote_ratio  \\\n",
       "0     70000             EUR          79833                 DE             0   \n",
       "1    260000             USD         260000                 JP             0   \n",
       "2     85000             GBP         109024                 GB            50   \n",
       "3     20000             USD          20000                 HN             0   \n",
       "4    150000             USD         150000                 US            50   \n",
       "..      ...             ...            ...                ...           ...   \n",
       "602  154000             USD         154000                 US           100   \n",
       "603  126000             USD         126000                 US           100   \n",
       "604  129000             USD         129000                 US             0   \n",
       "605  150000             USD         150000                 US           100   \n",
       "606  200000             USD         200000                 IN           100   \n",
       "\n",
       "    company_location company_size  \n",
       "0                 DE            L  \n",
       "1                 JP            S  \n",
       "2                 GB            M  \n",
       "3                 HN            S  \n",
       "4                 US            L  \n",
       "..               ...          ...  \n",
       "602               US            M  \n",
       "603               US            M  \n",
       "604               US            M  \n",
       "605               US            M  \n",
       "606               US            L  \n",
       "\n",
       "[607 rows x 11 columns]"
      ]
     },
     "execution_count": 13,
     "metadata": {},
     "output_type": "execute_result"
    }
   ],
   "source": [
    "data"
   ]
  },
  {
   "cell_type": "code",
   "execution_count": null,
   "id": "1cc3f4a8",
   "metadata": {
    "papermill": {
     "duration": 0.008701,
     "end_time": "2022-07-14T06:33:44.882902",
     "exception": false,
     "start_time": "2022-07-14T06:33:44.874201",
     "status": "completed"
    },
    "tags": []
   },
   "outputs": [],
   "source": []
  }
 ],
 "metadata": {
  "kernelspec": {
   "display_name": "Python 3",
   "language": "python",
   "name": "python3"
  },
  "language_info": {
   "codemirror_mode": {
    "name": "ipython",
    "version": 3
   },
   "file_extension": ".py",
   "mimetype": "text/x-python",
   "name": "python",
   "nbconvert_exporter": "python",
   "pygments_lexer": "ipython3",
   "version": "3.7.12"
  },
  "papermill": {
   "default_parameters": {},
   "duration": 15.181637,
   "end_time": "2022-07-14T06:33:45.716563",
   "environment_variables": {},
   "exception": null,
   "input_path": "__notebook__.ipynb",
   "output_path": "__notebook__.ipynb",
   "parameters": {},
   "start_time": "2022-07-14T06:33:30.534926",
   "version": "2.3.4"
  }
 },
 "nbformat": 4,
 "nbformat_minor": 5
}
